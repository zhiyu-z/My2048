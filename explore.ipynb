{
 "cells": [
  {
   "cell_type": "code",
   "execution_count": 1,
   "metadata": {},
   "outputs": [],
   "source": [
    "import torch\n",
    "import torchvision\n",
    "import torch.nn as nn\n",
    "import torch.utils.data as data\n",
    "import torchvision.transforms as transforms\n",
    "from torch.autograd import Variable\n",
    "import numpy as np\n",
    "import pandas as pd"
   ]
  },
  {
   "cell_type": "code",
   "execution_count": 2,
   "metadata": {},
   "outputs": [],
   "source": [
    "#Hyper parameter define\n",
    "Epochs=10\n",
    "Batch_Size=2048\n",
    "LR=0.001"
   ]
  },
  {
   "cell_type": "code",
   "execution_count": 3,
   "metadata": {},
   "outputs": [],
   "source": [
    "class MyDataread(data.Dataset):\n",
    "    def __init__(self,root,transform=None):\n",
    "        super().__init__()\n",
    "        Data=pd.read_csv(root).values\n",
    "        self.board=Data[:,0:16]\n",
    "        self.label=Data[:,16]\n",
    "        self.transform=transform\n",
    "        self.index=0\n",
    "        \n",
    "    def __getitem__(self,index):\n",
    "        board=self.board[index].reshape((4,4))\n",
    "        board=board[:,:,np.newaxis]\n",
    "        board=board/11.0\n",
    "        label=self.label[index]\n",
    "        if self.transform is not None:\n",
    "            board=self.transform(board)\n",
    "            board=board.type(torch.float)\n",
    "        return board,label\n",
    "        \n",
    "    def __len__(self):\n",
    "        return len(self.label)"
   ]
  },
  {
   "cell_type": "code",
   "execution_count": 4,
   "metadata": {},
   "outputs": [],
   "source": [
    "class RNN(nn.Module):\n",
    "    def __init__(self):\n",
    "        super(RNN,self).__init__()\n",
    "        self.rnn=nn.LSTM(input_size=4,hidden_size=400,num_layers=4,batch_first=True)\n",
    "        self.out=nn.Linear(400,4)\n",
    "    \n",
    "    def forward(self,x):\n",
    "        r_out,(h_n,h_c)=self.rnn(x,None)\n",
    "        out=self.out(r_out[:,-1,:])\n",
    "        return out"
   ]
  },
  {
   "cell_type": "code",
   "execution_count": null,
   "metadata": {},
   "outputs": [],
   "source": [
    "def main():\n",
    "    TrainData=MyDataread(root=\"/mnt/My2048/data/traindata.csv\",\n",
    "                            transform=transforms.Compose([transforms.ToTensor()]))\n",
    "    TrainLoader=data.DataLoader(dataset=TrainData,batch_size=Batch_Size,shuffle=True,num_workers=0)\n",
    "    \n",
    "    rnn=RNN()\n",
    "    optimizer=torch.optim.Adam(rnn.parameters(),lr=LR)\n",
    "    loss_func=nn.CrossEntropyLoss()\n",
    "        \n",
    "    for epoch in range(Epochs):\n",
    "        for step,(board,label) in enumerate(TrainLoader):\n",
    "            board=Variable(board.view(-1,4,4))\n",
    "            label=Variable(label)\n",
    "                \n",
    "            if torch.cuda.is_available():\n",
    "                board=board.cuda()\n",
    "                label=label.cuda()\n",
    "                rnn.cuda()\n",
    "                    \n",
    "            out=rnn(board)\n",
    "            loss=loss_func(out,label)\n",
    "            optimizer.zero_grad()\n",
    "            loss.backward()\n",
    "            optimizer.step()\n",
    "                \n",
    "            if step % 50 == 0:\n",
    "                out=rnn(board)\n",
    "                predict=torch.max(out,1)[1]\n",
    "                train_correct=(predict==label).sum().item()\n",
    "                print('Epoch: ', epoch, '| test accuracy: %.4f' % (train_correct/(Batch_Size * 1.0)))\n",
    "    torch.save(rnn,'RNN_model.pkl')\n"
   ]
  },
  {
   "cell_type": "code",
   "execution_count": null,
   "metadata": {},
   "outputs": [],
   "source": [
    "main()"
   ]
  }
 ],
 "metadata": {
  "kernelspec": {
   "display_name": "Python 3",
   "language": "python",
   "name": "python3"
  },
  "language_info": {
   "codemirror_mode": {
    "name": "ipython",
    "version": 3
   },
   "file_extension": ".py",
   "mimetype": "text/x-python",
   "name": "python",
   "nbconvert_exporter": "python",
   "pygments_lexer": "ipython3",
   "version": "3.7.7"
  }
 },
 "nbformat": 4,
 "nbformat_minor": 2
}
